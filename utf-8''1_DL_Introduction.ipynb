{
  "cells": [
    {
      "metadata": {},
      "cell_type": "markdown",
      "source": "## Tensorflow"
    },
    {
      "metadata": {
        "trusted": true
      },
      "cell_type": "code",
      "source": "import tensorflow as tf",
      "execution_count": 1,
      "outputs": []
    },
    {
      "metadata": {
        "trusted": true
      },
      "cell_type": "code",
      "source": "# Declaring two symbolic floating-point scalars\na = tf.placeholder(tf.float32)\nb = tf.placeholder(tf.float32)\n\n# Creating symbolic expression using add function\nadd = tf.add(a, b)\n\n#Creating a tensorflow session\nsession = tf.Session()",
      "execution_count": 2,
      "outputs": []
    },
    {
      "metadata": {
        "trusted": true
      },
      "cell_type": "code",
      "source": "# Binding 1.5 to a and 2.5 to b\nbinding = {a: 1.5, b: 2.5}\n\n# Executing\nc = session.run(add, feed_dict=binding)\nprint(c)",
      "execution_count": 3,
      "outputs": [
        {
          "output_type": "stream",
          "text": "4.0\n",
          "name": "stdout"
        }
      ]
    },
    {
      "metadata": {},
      "cell_type": "markdown",
      "source": "## PIMA Indians Diabetes - Keras"
    },
    {
      "metadata": {
        "trusted": true
      },
      "cell_type": "code",
      "source": "from keras.models import Sequential\nfrom keras.layers import Dense\nimport numpy as np",
      "execution_count": 4,
      "outputs": [
        {
          "output_type": "stream",
          "text": "Using TensorFlow backend.\n",
          "name": "stderr"
        }
      ]
    },
    {
      "metadata": {},
      "cell_type": "markdown",
      "source": "Random seed helps to get same result when you run the model again"
    },
    {
      "metadata": {
        "trusted": true
      },
      "cell_type": "code",
      "source": "np.random.seed(6)",
      "execution_count": 6,
      "outputs": []
    },
    {
      "metadata": {},
      "cell_type": "markdown",
      "source": "### Step 1.  Load Data"
    },
    {
      "metadata": {
        "trusted": true
      },
      "cell_type": "code",
      "source": "df = np.loadtxt(\"data/pima-indians-diabetes.csv\", delimiter=\",\")\nX = df[:, 0:8]\ny = df[:, 8]",
      "execution_count": 7,
      "outputs": []
    },
    {
      "metadata": {},
      "cell_type": "markdown",
      "source": "### Step 2. Define Model"
    },
    {
      "metadata": {
        "trusted": true
      },
      "cell_type": "code",
      "source": "model = Sequential()\n# Input layer with 8 features and 12 neuron first hidden layer.\nmodel.add(Dense(12, input_dim=8, activation='relu'))\n# Second hidden layer with 8 neurons\nmodel.add(Dense(8, activation='relu'))\n# Output layer.  Class 0 or 1.  Onset to diabetes within five years or not.\nmodel.add(Dense(1, activation='sigmoid'))",
      "execution_count": 8,
      "outputs": []
    },
    {
      "metadata": {},
      "cell_type": "markdown",
      "source": "### Step 3. Compile Model\nBackend (Theano or TensorFlow) chooses the best way to represent the network for training and making predictions to run on your hardware.\n\nTraining - find best weights\nCompile requires additional parameters:\n\n* Specifying loss function to evaluate a set of weights\n* Specifying optimizer used to search through different weights"
    },
    {
      "metadata": {
        "trusted": true
      },
      "cell_type": "code",
      "source": "# logarithmic loss for binary classification\n# adam as gradient descent algorithm\n# metrics helps to specify what is expected in this model, accuracy\nmodel.compile(loss='binary_crossentropy', optimizer='adam', metrics=['accuracy'])",
      "execution_count": 9,
      "outputs": []
    },
    {
      "metadata": {},
      "cell_type": "markdown",
      "source": "### Step 4. Fit Model\nExecute the model on some data"
    },
    {
      "metadata": {
        "trusted": true
      },
      "cell_type": "code",
      "source": "from sklearn.model_selection import train_test_split",
      "execution_count": 10,
      "outputs": []
    },
    {
      "metadata": {
        "trusted": true
      },
      "cell_type": "code",
      "source": "X_train, X_test, y_train, y_test = train_test_split(X, y, test_size=0.33, random_state=6)",
      "execution_count": 11,
      "outputs": []
    },
    {
      "metadata": {
        "trusted": true
      },
      "cell_type": "code",
      "source": "# training set X, y.  30% for validation as like as train_test_split\nmodel.fit(X_train, y_train, validation_data=(X_test, y_test), epochs=150, batch_size=10)",
      "execution_count": 12,
      "outputs": [
        {
          "output_type": "stream",
          "text": "Train on 514 samples, validate on 254 samples\nEpoch 1/150\n514/514 [==============================] - 3s 6ms/step - loss: 4.5406 - acc: 0.5584 - val_loss: 3.2560 - val_acc: 0.6496\nEpoch 2/150\n514/514 [==============================] - 1s 1ms/step - loss: 3.3468 - acc: 0.5914 - val_loss: 3.0320 - val_acc: 0.5669\nEpoch 3/150\n514/514 [==============================] - 1s 1ms/step - loss: 1.8062 - acc: 0.5272 - val_loss: 1.1080 - val_acc: 0.5039\nEpoch 4/150\n514/514 [==============================] - 1s 1ms/step - loss: 0.9754 - acc: 0.5058 - val_loss: 1.0097 - val_acc: 0.5748\nEpoch 5/150\n514/514 [==============================] - 1s 1ms/step - loss: 0.8889 - acc: 0.5370 - val_loss: 0.9801 - val_acc: 0.6614\nEpoch 6/150\n514/514 [==============================] - 1s 1ms/step - loss: 0.8281 - acc: 0.5331 - val_loss: 0.8971 - val_acc: 0.5472\nEpoch 7/150\n514/514 [==============================] - 1s 1ms/step - loss: 0.7819 - acc: 0.5584 - val_loss: 0.8721 - val_acc: 0.6024\nEpoch 8/150\n514/514 [==============================] - 1s 980us/step - loss: 0.7445 - acc: 0.5914 - val_loss: 0.8525 - val_acc: 0.6496\nEpoch 9/150\n514/514 [==============================] - 1s 1ms/step - loss: 0.7305 - acc: 0.6245 - val_loss: 0.8240 - val_acc: 0.5984\nEpoch 10/150\n514/514 [==============================] - 1s 1ms/step - loss: 0.7076 - acc: 0.6148 - val_loss: 0.8189 - val_acc: 0.5787\nEpoch 11/150\n514/514 [==============================] - 0s 912us/step - loss: 0.6815 - acc: 0.6206 - val_loss: 0.7800 - val_acc: 0.6969\nEpoch 12/150\n514/514 [==============================] - 1s 988us/step - loss: 0.6660 - acc: 0.6479 - val_loss: 0.7913 - val_acc: 0.6378\nEpoch 13/150\n514/514 [==============================] - 1s 988us/step - loss: 0.6625 - acc: 0.6440 - val_loss: 0.7875 - val_acc: 0.6063\nEpoch 14/150\n514/514 [==============================] - 1s 1ms/step - loss: 0.6604 - acc: 0.6576 - val_loss: 0.7534 - val_acc: 0.7047\nEpoch 15/150\n514/514 [==============================] - 1s 1ms/step - loss: 0.6365 - acc: 0.6693 - val_loss: 0.7778 - val_acc: 0.6575\nEpoch 16/150\n514/514 [==============================] - 1s 1ms/step - loss: 0.6414 - acc: 0.6634 - val_loss: 0.7713 - val_acc: 0.6063\nEpoch 17/150\n514/514 [==============================] - 1s 1ms/step - loss: 0.6352 - acc: 0.6440 - val_loss: 0.7637 - val_acc: 0.6417\nEpoch 18/150\n514/514 [==============================] - 1s 1ms/step - loss: 0.6436 - acc: 0.6654 - val_loss: 0.8605 - val_acc: 0.5512\nEpoch 19/150\n514/514 [==============================] - 1s 1ms/step - loss: 0.6263 - acc: 0.6654 - val_loss: 0.7782 - val_acc: 0.6969\nEpoch 20/150\n514/514 [==============================] - 1s 2ms/step - loss: 0.6235 - acc: 0.6712 - val_loss: 0.7961 - val_acc: 0.6457\nEpoch 21/150\n514/514 [==============================] - 1s 1ms/step - loss: 0.6110 - acc: 0.6887 - val_loss: 0.7775 - val_acc: 0.6102\nEpoch 22/150\n514/514 [==============================] - 1s 1ms/step - loss: 0.6250 - acc: 0.6654 - val_loss: 0.7473 - val_acc: 0.7244\nEpoch 23/150\n514/514 [==============================] - 1s 1ms/step - loss: 0.6108 - acc: 0.6984 - val_loss: 0.7318 - val_acc: 0.7165\nEpoch 24/150\n514/514 [==============================] - 1s 1ms/step - loss: 0.6216 - acc: 0.6868 - val_loss: 0.7703 - val_acc: 0.5945\nEpoch 25/150\n514/514 [==============================] - 1s 1ms/step - loss: 0.6065 - acc: 0.6887 - val_loss: 0.7967 - val_acc: 0.5984\nEpoch 26/150\n514/514 [==============================] - 1s 976us/step - loss: 0.5945 - acc: 0.7004 - val_loss: 0.7297 - val_acc: 0.6850\nEpoch 27/150\n514/514 [==============================] - 1s 1ms/step - loss: 0.5966 - acc: 0.6907 - val_loss: 0.7088 - val_acc: 0.6693\nEpoch 28/150\n514/514 [==============================] - 0s 922us/step - loss: 0.6116 - acc: 0.6926 - val_loss: 0.7485 - val_acc: 0.7126\nEpoch 29/150\n514/514 [==============================] - 1s 1ms/step - loss: 0.5903 - acc: 0.6984 - val_loss: 0.7168 - val_acc: 0.7047\nEpoch 30/150\n514/514 [==============================] - 0s 947us/step - loss: 0.5905 - acc: 0.6868 - val_loss: 0.7664 - val_acc: 0.5709\nEpoch 31/150\n514/514 [==============================] - 0s 955us/step - loss: 0.5907 - acc: 0.6770 - val_loss: 0.7916 - val_acc: 0.5669\nEpoch 32/150\n514/514 [==============================] - 1s 999us/step - loss: 0.5950 - acc: 0.6848 - val_loss: 0.7407 - val_acc: 0.6378\nEpoch 33/150\n514/514 [==============================] - 1s 993us/step - loss: 0.5795 - acc: 0.7023 - val_loss: 0.7690 - val_acc: 0.7087\nEpoch 34/150\n514/514 [==============================] - 1s 1ms/step - loss: 0.5934 - acc: 0.7043 - val_loss: 0.7751 - val_acc: 0.6142\nEpoch 35/150\n514/514 [==============================] - 1s 1ms/step - loss: 0.5883 - acc: 0.6984 - val_loss: 0.7261 - val_acc: 0.7008\nEpoch 36/150\n514/514 [==============================] - 1s 2ms/step - loss: 0.5781 - acc: 0.7062 - val_loss: 0.7011 - val_acc: 0.6850\nEpoch 37/150\n514/514 [==============================] - 1s 1ms/step - loss: 0.5830 - acc: 0.7062 - val_loss: 0.7483 - val_acc: 0.6929\nEpoch 38/150\n514/514 [==============================] - 1s 1ms/step - loss: 0.5819 - acc: 0.6946 - val_loss: 0.7056 - val_acc: 0.7362\nEpoch 39/150\n514/514 [==============================] - 0s 969us/step - loss: 0.5739 - acc: 0.7023 - val_loss: 0.7212 - val_acc: 0.6339\nEpoch 40/150\n514/514 [==============================] - 1s 1ms/step - loss: 0.5831 - acc: 0.6965 - val_loss: 0.6892 - val_acc: 0.7047\nEpoch 41/150\n514/514 [==============================] - 1s 1ms/step - loss: 0.5761 - acc: 0.6984 - val_loss: 0.7024 - val_acc: 0.7126\nEpoch 42/150\n514/514 [==============================] - 1s 1ms/step - loss: 0.5665 - acc: 0.7121 - val_loss: 0.7502 - val_acc: 0.7441\nEpoch 43/150\n514/514 [==============================] - 1s 1ms/step - loss: 0.5777 - acc: 0.7101 - val_loss: 0.7265 - val_acc: 0.6496\nEpoch 44/150\n514/514 [==============================] - 1s 1ms/step - loss: 0.5788 - acc: 0.6926 - val_loss: 0.6967 - val_acc: 0.7205\nEpoch 45/150\n514/514 [==============================] - 1s 1ms/step - loss: 0.5764 - acc: 0.7082 - val_loss: 0.7085 - val_acc: 0.7323\nEpoch 46/150\n514/514 [==============================] - 1s 1ms/step - loss: 0.5639 - acc: 0.7198 - val_loss: 0.7039 - val_acc: 0.7283\nEpoch 47/150\n514/514 [==============================] - 1s 1ms/step - loss: 0.5628 - acc: 0.6965 - val_loss: 0.7163 - val_acc: 0.7087\nEpoch 48/150\n514/514 [==============================] - 1s 1ms/step - loss: 0.5626 - acc: 0.7179 - val_loss: 0.7043 - val_acc: 0.7244\nEpoch 49/150\n514/514 [==============================] - 1s 1ms/step - loss: 0.5688 - acc: 0.7140 - val_loss: 0.7339 - val_acc: 0.6693\nEpoch 50/150\n514/514 [==============================] - 1s 1ms/step - loss: 0.5537 - acc: 0.7140 - val_loss: 0.7125 - val_acc: 0.6772\nEpoch 51/150\n514/514 [==============================] - 1s 1ms/step - loss: 0.5619 - acc: 0.7237 - val_loss: 0.6969 - val_acc: 0.7362\nEpoch 52/150\n514/514 [==============================] - 0s 966us/step - loss: 0.5641 - acc: 0.7257 - val_loss: 0.6847 - val_acc: 0.7165\nEpoch 53/150\n514/514 [==============================] - 0s 947us/step - loss: 0.5552 - acc: 0.7140 - val_loss: 0.7335 - val_acc: 0.6614\nEpoch 54/150\n514/514 [==============================] - 1s 1ms/step - loss: 0.5667 - acc: 0.7023 - val_loss: 0.6865 - val_acc: 0.7362\nEpoch 55/150\n514/514 [==============================] - 1s 1ms/step - loss: 0.5539 - acc: 0.7179 - val_loss: 0.7205 - val_acc: 0.7283\nEpoch 56/150\n514/514 [==============================] - 0s 905us/step - loss: 0.5536 - acc: 0.7257 - val_loss: 0.6846 - val_acc: 0.7165\nEpoch 57/150\n514/514 [==============================] - 1s 1ms/step - loss: 0.5619 - acc: 0.7101 - val_loss: 0.7656 - val_acc: 0.5984\nEpoch 58/150\n514/514 [==============================] - 1s 1ms/step - loss: 0.5743 - acc: 0.7121 - val_loss: 0.7009 - val_acc: 0.7362\nEpoch 59/150\n514/514 [==============================] - 1s 991us/step - loss: 0.5509 - acc: 0.7043 - val_loss: 0.6833 - val_acc: 0.7402\nEpoch 60/150\n514/514 [==============================] - 1s 1ms/step - loss: 0.5489 - acc: 0.7179 - val_loss: 0.7248 - val_acc: 0.7087\nEpoch 61/150\n",
          "name": "stdout"
        },
        {
          "output_type": "stream",
          "text": "514/514 [==============================] - 1s 993us/step - loss: 0.5502 - acc: 0.7237 - val_loss: 0.6761 - val_acc: 0.7283\nEpoch 62/150\n514/514 [==============================] - 1s 1ms/step - loss: 0.5535 - acc: 0.7023 - val_loss: 0.6837 - val_acc: 0.7205\nEpoch 63/150\n514/514 [==============================] - 1s 1ms/step - loss: 0.5555 - acc: 0.7237 - val_loss: 0.6899 - val_acc: 0.7087\nEpoch 64/150\n514/514 [==============================] - 1s 977us/step - loss: 0.5522 - acc: 0.7198 - val_loss: 0.6522 - val_acc: 0.7165\nEpoch 65/150\n514/514 [==============================] - 1s 1ms/step - loss: 0.5469 - acc: 0.7160 - val_loss: 0.6945 - val_acc: 0.6850\nEpoch 66/150\n514/514 [==============================] - 1s 1ms/step - loss: 0.5518 - acc: 0.7101 - val_loss: 0.6819 - val_acc: 0.7323\nEpoch 67/150\n514/514 [==============================] - 1s 991us/step - loss: 0.5518 - acc: 0.7296 - val_loss: 0.6761 - val_acc: 0.7323\nEpoch 68/150\n514/514 [==============================] - 1s 1ms/step - loss: 0.5543 - acc: 0.7198 - val_loss: 0.7259 - val_acc: 0.6496\nEpoch 69/150\n514/514 [==============================] - 1s 1ms/step - loss: 0.5412 - acc: 0.7354 - val_loss: 0.7127 - val_acc: 0.6929\nEpoch 70/150\n514/514 [==============================] - 1s 1ms/step - loss: 0.5405 - acc: 0.7296 - val_loss: 0.6574 - val_acc: 0.7402\nEpoch 71/150\n514/514 [==============================] - 0s 954us/step - loss: 0.5365 - acc: 0.7354 - val_loss: 0.6556 - val_acc: 0.7402\nEpoch 72/150\n514/514 [==============================] - 1s 2ms/step - loss: 0.5430 - acc: 0.7160 - val_loss: 0.6788 - val_acc: 0.7165\nEpoch 73/150\n514/514 [==============================] - 1s 1ms/step - loss: 0.5432 - acc: 0.7160 - val_loss: 0.6499 - val_acc: 0.7362\nEpoch 74/150\n514/514 [==============================] - 1s 1ms/step - loss: 0.5416 - acc: 0.7198 - val_loss: 0.6704 - val_acc: 0.7362\nEpoch 75/150\n514/514 [==============================] - 1s 1ms/step - loss: 0.5349 - acc: 0.7257 - val_loss: 0.7110 - val_acc: 0.6654\nEpoch 76/150\n514/514 [==============================] - 1s 1ms/step - loss: 0.5372 - acc: 0.7237 - val_loss: 0.6681 - val_acc: 0.7244\nEpoch 77/150\n514/514 [==============================] - 1s 1ms/step - loss: 0.5458 - acc: 0.7101 - val_loss: 0.6937 - val_acc: 0.7087\nEpoch 78/150\n514/514 [==============================] - 0s 940us/step - loss: 0.5263 - acc: 0.7276 - val_loss: 0.6411 - val_acc: 0.7520\nEpoch 79/150\n514/514 [==============================] - 1s 1ms/step - loss: 0.5317 - acc: 0.7218 - val_loss: 0.6574 - val_acc: 0.7205\nEpoch 80/150\n514/514 [==============================] - 1s 1ms/step - loss: 0.5394 - acc: 0.7043 - val_loss: 0.6709 - val_acc: 0.7283\nEpoch 81/150\n514/514 [==============================] - 1s 1ms/step - loss: 0.5312 - acc: 0.7471 - val_loss: 0.6302 - val_acc: 0.7402\nEpoch 82/150\n514/514 [==============================] - 1s 1ms/step - loss: 0.5303 - acc: 0.7471 - val_loss: 0.6480 - val_acc: 0.7362\nEpoch 83/150\n514/514 [==============================] - 1s 1ms/step - loss: 0.5538 - acc: 0.7121 - val_loss: 0.6998 - val_acc: 0.7047\nEpoch 84/150\n514/514 [==============================] - 1s 1ms/step - loss: 0.5420 - acc: 0.7471 - val_loss: 0.6536 - val_acc: 0.7244\nEpoch 85/150\n514/514 [==============================] - 1s 1ms/step - loss: 0.5296 - acc: 0.7296 - val_loss: 0.6469 - val_acc: 0.7441\nEpoch 86/150\n514/514 [==============================] - 1s 1ms/step - loss: 0.5305 - acc: 0.7374 - val_loss: 0.6553 - val_acc: 0.7402\nEpoch 87/150\n514/514 [==============================] - 1s 1ms/step - loss: 0.5254 - acc: 0.7354 - val_loss: 0.6347 - val_acc: 0.7362\nEpoch 88/150\n514/514 [==============================] - ETA: 0s - loss: 0.5288 - acc: 0.743 - 1s 1ms/step - loss: 0.5267 - acc: 0.7451 - val_loss: 0.6431 - val_acc: 0.7323\nEpoch 89/150\n514/514 [==============================] - 0s 951us/step - loss: 0.5276 - acc: 0.7121 - val_loss: 0.6499 - val_acc: 0.7441\nEpoch 90/150\n514/514 [==============================] - 1s 1ms/step - loss: 0.5346 - acc: 0.7276 - val_loss: 0.6349 - val_acc: 0.7283\nEpoch 91/150\n514/514 [==============================] - 1s 1ms/step - loss: 0.5453 - acc: 0.7198 - val_loss: 0.6210 - val_acc: 0.7756\nEpoch 92/150\n514/514 [==============================] - 1s 1ms/step - loss: 0.5219 - acc: 0.7315 - val_loss: 0.6562 - val_acc: 0.7362\nEpoch 93/150\n514/514 [==============================] - 1s 1ms/step - loss: 0.5166 - acc: 0.7432 - val_loss: 0.6235 - val_acc: 0.7362\nEpoch 94/150\n514/514 [==============================] - 1s 2ms/step - loss: 0.5182 - acc: 0.7374 - val_loss: 0.6466 - val_acc: 0.7480\nEpoch 95/150\n514/514 [==============================] - 1s 1ms/step - loss: 0.5205 - acc: 0.7315 - val_loss: 0.6453 - val_acc: 0.7362\nEpoch 96/150\n514/514 [==============================] - 1s 1ms/step - loss: 0.5216 - acc: 0.7335 - val_loss: 0.6567 - val_acc: 0.7323\nEpoch 97/150\n514/514 [==============================] - 1s 1ms/step - loss: 0.5209 - acc: 0.7471 - val_loss: 0.6361 - val_acc: 0.7441\nEpoch 98/150\n514/514 [==============================] - 1s 1ms/step - loss: 0.5165 - acc: 0.7374 - val_loss: 0.6551 - val_acc: 0.7323\nEpoch 99/150\n514/514 [==============================] - 1s 1ms/step - loss: 0.5130 - acc: 0.7393 - val_loss: 0.6221 - val_acc: 0.7441\nEpoch 100/150\n514/514 [==============================] - 1s 1ms/step - loss: 0.5189 - acc: 0.7432 - val_loss: 0.6233 - val_acc: 0.7402\nEpoch 101/150\n514/514 [==============================] - 1s 2ms/step - loss: 0.5207 - acc: 0.7412 - val_loss: 0.6499 - val_acc: 0.7402\nEpoch 102/150\n514/514 [==============================] - 1s 1ms/step - loss: 0.5181 - acc: 0.7451 - val_loss: 0.6192 - val_acc: 0.7717\nEpoch 103/150\n514/514 [==============================] - 1s 1ms/step - loss: 0.5192 - acc: 0.7393 - val_loss: 0.6301 - val_acc: 0.7480\nEpoch 104/150\n514/514 [==============================] - 1s 1ms/step - loss: 0.5113 - acc: 0.7510 - val_loss: 0.6465 - val_acc: 0.7402\nEpoch 105/150\n514/514 [==============================] - 1s 1ms/step - loss: 0.5307 - acc: 0.7335 - val_loss: 0.6705 - val_acc: 0.7283\nEpoch 106/150\n514/514 [==============================] - 1s 1ms/step - loss: 0.5246 - acc: 0.7374 - val_loss: 0.6216 - val_acc: 0.7441\nEpoch 107/150\n514/514 [==============================] - 1s 1ms/step - loss: 0.5065 - acc: 0.7529 - val_loss: 0.6376 - val_acc: 0.7402\nEpoch 108/150\n514/514 [==============================] - 1s 1ms/step - loss: 0.5112 - acc: 0.7490 - val_loss: 0.6421 - val_acc: 0.7441\nEpoch 109/150\n514/514 [==============================] - 1s 1ms/step - loss: 0.5070 - acc: 0.7432 - val_loss: 0.6230 - val_acc: 0.7520\nEpoch 110/150\n514/514 [==============================] - 1s 1ms/step - loss: 0.5159 - acc: 0.7471 - val_loss: 0.6504 - val_acc: 0.7283\nEpoch 111/150\n514/514 [==============================] - 1s 1ms/step - loss: 0.5065 - acc: 0.7724 - val_loss: 0.6139 - val_acc: 0.7402\nEpoch 112/150\n514/514 [==============================] - 1s 1ms/step - loss: 0.5211 - acc: 0.7257 - val_loss: 0.6554 - val_acc: 0.7205\nEpoch 113/150\n514/514 [==============================] - 1s 1ms/step - loss: 0.5115 - acc: 0.7471 - val_loss: 0.6269 - val_acc: 0.7559\nEpoch 114/150\n514/514 [==============================] - 1s 1ms/step - loss: 0.5060 - acc: 0.7393 - val_loss: 0.6394 - val_acc: 0.7323\nEpoch 115/150\n514/514 [==============================] - 1s 1ms/step - loss: 0.5121 - acc: 0.7412 - val_loss: 0.6423 - val_acc: 0.7441\nEpoch 116/150\n514/514 [==============================] - 1s 1ms/step - loss: 0.5013 - acc: 0.7743 - val_loss: 0.6368 - val_acc: 0.7520\nEpoch 117/150\n514/514 [==============================] - 1s 1ms/step - loss: 0.5303 - acc: 0.7198 - val_loss: 0.6258 - val_acc: 0.7441\nEpoch 118/150\n514/514 [==============================] - 1s 1ms/step - loss: 0.5038 - acc: 0.7374 - val_loss: 0.6248 - val_acc: 0.7362\nEpoch 119/150\n514/514 [==============================] - 1s 994us/step - loss: 0.5130 - acc: 0.7568 - val_loss: 0.6531 - val_acc: 0.7480\nEpoch 120/150\n514/514 [==============================] - 1s 1ms/step - loss: 0.5014 - acc: 0.7549 - val_loss: 0.6423 - val_acc: 0.7362\nEpoch 121/150\n",
          "name": "stdout"
        },
        {
          "output_type": "stream",
          "text": "514/514 [==============================] - 1s 1ms/step - loss: 0.5121 - acc: 0.7549 - val_loss: 0.6263 - val_acc: 0.7441\nEpoch 122/150\n514/514 [==============================] - 1s 1ms/step - loss: 0.5116 - acc: 0.7549 - val_loss: 0.6291 - val_acc: 0.7598\nEpoch 123/150\n514/514 [==============================] - 1s 1ms/step - loss: 0.5166 - acc: 0.7393 - val_loss: 0.6058 - val_acc: 0.7598\nEpoch 124/150\n514/514 [==============================] - 1s 1ms/step - loss: 0.5047 - acc: 0.7607 - val_loss: 0.6369 - val_acc: 0.7559\nEpoch 125/150\n514/514 [==============================] - 1s 1ms/step - loss: 0.5059 - acc: 0.7607 - val_loss: 0.6270 - val_acc: 0.7638\nEpoch 126/150\n514/514 [==============================] - 1s 1ms/step - loss: 0.4963 - acc: 0.7743 - val_loss: 0.6244 - val_acc: 0.7598\nEpoch 127/150\n514/514 [==============================] - 1s 1ms/step - loss: 0.4981 - acc: 0.7374 - val_loss: 0.6397 - val_acc: 0.7441\nEpoch 128/150\n514/514 [==============================] - 1s 1ms/step - loss: 0.5174 - acc: 0.7354 - val_loss: 0.6638 - val_acc: 0.7283\nEpoch 129/150\n514/514 [==============================] - 0s 971us/step - loss: 0.5058 - acc: 0.7451 - val_loss: 0.6091 - val_acc: 0.7795\nEpoch 130/150\n514/514 [==============================] - 1s 1ms/step - loss: 0.5001 - acc: 0.7529 - val_loss: 0.6204 - val_acc: 0.7598\nEpoch 131/150\n514/514 [==============================] - 1s 1ms/step - loss: 0.5050 - acc: 0.7646 - val_loss: 0.6021 - val_acc: 0.7756\nEpoch 132/150\n514/514 [==============================] - 1s 1ms/step - loss: 0.5177 - acc: 0.7451 - val_loss: 0.6939 - val_acc: 0.7047\nEpoch 133/150\n514/514 [==============================] - 0s 946us/step - loss: 0.5081 - acc: 0.7471 - val_loss: 0.6264 - val_acc: 0.7441\nEpoch 134/150\n514/514 [==============================] - 1s 1ms/step - loss: 0.5035 - acc: 0.7568 - val_loss: 0.6329 - val_acc: 0.7677\nEpoch 135/150\n514/514 [==============================] - 1s 1ms/step - loss: 0.5021 - acc: 0.7432 - val_loss: 0.6278 - val_acc: 0.7480\nEpoch 136/150\n514/514 [==============================] - 1s 1ms/step - loss: 0.5123 - acc: 0.7432 - val_loss: 0.6249 - val_acc: 0.7362\nEpoch 137/150\n514/514 [==============================] - 1s 1ms/step - loss: 0.5108 - acc: 0.7354 - val_loss: 0.6115 - val_acc: 0.7795\nEpoch 138/150\n514/514 [==============================] - 1s 1ms/step - loss: 0.4909 - acc: 0.7724 - val_loss: 0.6198 - val_acc: 0.7480\nEpoch 139/150\n514/514 [==============================] - 1s 1ms/step - loss: 0.5121 - acc: 0.7588 - val_loss: 0.6397 - val_acc: 0.7598\nEpoch 140/150\n514/514 [==============================] - 1s 1ms/step - loss: 0.5047 - acc: 0.7510 - val_loss: 0.6264 - val_acc: 0.7402\nEpoch 141/150\n514/514 [==============================] - 1s 1ms/step - loss: 0.4921 - acc: 0.7549 - val_loss: 0.6496 - val_acc: 0.7283\nEpoch 142/150\n514/514 [==============================] - 1s 1ms/step - loss: 0.4975 - acc: 0.7471 - val_loss: 0.6195 - val_acc: 0.7638\nEpoch 143/150\n514/514 [==============================] - 1s 1ms/step - loss: 0.4977 - acc: 0.7374 - val_loss: 0.6130 - val_acc: 0.7402\nEpoch 144/150\n514/514 [==============================] - 1s 1ms/step - loss: 0.4926 - acc: 0.7665 - val_loss: 0.6674 - val_acc: 0.7283\nEpoch 145/150\n514/514 [==============================] - 1s 1ms/step - loss: 0.5071 - acc: 0.7588 - val_loss: 0.6272 - val_acc: 0.7480\nEpoch 146/150\n514/514 [==============================] - 1s 1ms/step - loss: 0.4912 - acc: 0.7607 - val_loss: 0.6343 - val_acc: 0.7441\nEpoch 147/150\n514/514 [==============================] - 1s 1ms/step - loss: 0.4945 - acc: 0.7588 - val_loss: 0.6052 - val_acc: 0.7638\nEpoch 148/150\n514/514 [==============================] - 1s 1ms/step - loss: 0.4905 - acc: 0.7588 - val_loss: 0.6145 - val_acc: 0.7677\nEpoch 149/150\n514/514 [==============================] - 1s 1ms/step - loss: 0.4967 - acc: 0.7451 - val_loss: 0.6303 - val_acc: 0.7520\nEpoch 150/150\n514/514 [==============================] - 1s 1ms/step - loss: 0.4901 - acc: 0.7490 - val_loss: 0.5955 - val_acc: 0.7677\n",
          "name": "stdout"
        },
        {
          "output_type": "execute_result",
          "execution_count": 12,
          "data": {
            "text/plain": "<keras.callbacks.History at 0x7fad30695160>"
          },
          "metadata": {}
        }
      ]
    },
    {
      "metadata": {},
      "cell_type": "markdown",
      "source": "### Step 5. Evaluate the model"
    },
    {
      "metadata": {
        "trusted": true
      },
      "cell_type": "code",
      "source": "scores = model.evaluate(X_test, y_test)\nprint(\"\\n%s: %.2f%%\" % (model.metrics_names[1], scores[1]*100))",
      "execution_count": 13,
      "outputs": [
        {
          "output_type": "stream",
          "text": "254/254 [==============================] - 0s 153us/step\n\nacc: 76.77%\n",
          "name": "stdout"
        }
      ]
    },
    {
      "metadata": {
        "trusted": true
      },
      "cell_type": "code",
      "source": "y_test_pred = model.predict(X_test)\nprint(y_test[:3])\nprint(y_test_pred[:3])",
      "execution_count": 14,
      "outputs": [
        {
          "output_type": "stream",
          "text": "[0. 1. 0.]\n[[0.15542398]\n [0.4455466 ]\n [0.37940535]]\n",
          "name": "stdout"
        }
      ]
    }
  ],
  "metadata": {
    "kernelspec": {
      "name": "python36",
      "display_name": "Python 3.6",
      "language": "python"
    },
    "language_info": {
      "mimetype": "text/x-python",
      "nbconvert_exporter": "python",
      "name": "python",
      "pygments_lexer": "ipython3",
      "version": "3.6.6",
      "file_extension": ".py",
      "codemirror_mode": {
        "version": 3,
        "name": "ipython"
      }
    }
  },
  "nbformat": 4,
  "nbformat_minor": 2
}